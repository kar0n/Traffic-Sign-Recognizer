{
 "cells": [
  {
   "cell_type": "code",
   "execution_count": 1,
   "metadata": {},
   "outputs": [],
   "source": [
    "import cv2\n",
    "import tensorflow as tf\n",
    "import os\n",
    "import sys\n",
    "import numpy as np\n",
    "import PIL\n",
    "import matplotlib.pyplot as plt"
   ]
  },
  {
   "cell_type": "code",
   "execution_count": 2,
   "metadata": {},
   "outputs": [],
   "source": [
    "from tensorflow import keras\n",
    "from tensorflow.keras import layers\n",
    "from tensorflow.keras.models import Sequential"
   ]
  },
  {
   "cell_type": "code",
   "execution_count": 3,
   "metadata": {},
   "outputs": [],
   "source": [
    "data_dir = 'gtsrb'"
   ]
  },
  {
   "cell_type": "code",
   "execution_count": 4,
   "metadata": {},
   "outputs": [],
   "source": [
    "from sklearn.model_selection import train_test_split"
   ]
  },
  {
   "cell_type": "code",
   "execution_count": 5,
   "metadata": {},
   "outputs": [],
   "source": [
    "EPOCHS = 30\n",
    "IMG_WIDTH = 30\n",
    "IMG_HEIGHT = 30\n",
    "NUM_CATEGORIES = 43\n",
    "TEST_SIZE = 0.4"
   ]
  },
  {
   "cell_type": "code",
   "execution_count": 6,
   "metadata": {},
   "outputs": [
    {
     "name": "stdout",
     "output_type": "stream",
     "text": [
      "26640\n"
     ]
    }
   ],
   "source": [
    "import pathlib\n",
    "data_dir = pathlib.Path(data_dir)\n",
    "image_count = len(list(data_dir.glob('*/*.ppm')))\n",
    "print(image_count)"
   ]
  },
  {
   "cell_type": "code",
   "execution_count": 7,
   "metadata": {},
   "outputs": [
    {
     "data": {
      "image/png": "[encoded data removed]",
      "text/plain": [
       "<PIL.PpmImagePlugin.PpmImageFile image mode=RGB size=29x30 at 0x293582A0108>"
      ]
     },
     "execution_count": 7,
     "metadata": {},
     "output_type": "execute_result"
    }
   ],
   "source": [
    "sign1 = list(data_dir.glob('0/*'))\n",
    "PIL.Image.open(str(sign1[0]))"
   ]
  },
  {
   "cell_type": "code",
   "execution_count": 8,
   "metadata": {},
   "outputs": [
    {
     "data": {
      "image/png": "[encoded data removed]",
      "text/plain": [
       "<PIL.PpmImagePlugin.PpmImageFile image mode=RGB size=56x57 at 0x293582BA588>"
      ]
     },
     "execution_count": 8,
     "metadata": {},
     "output_type": "execute_result"
    }
   ],
   "source": [
    "sign2 = list(data_dir.glob('1/*'))\n",
    "PIL.Image.open(str(sign2[0]))"
   ]
  },
  {
   "cell_type": "code",
   "execution_count": 9,
   "metadata": {},
   "outputs": [
    {
     "data": {
      "image/png": "[encoded data removed]",
      "text/plain": [
       "<PIL.PpmImagePlugin.PpmImageFile image mode=RGB size=35x30 at 0x29357C52748>"
      ]
     },
     "execution_count": 9,
     "metadata": {},
     "output_type": "execute_result"
    }
   ],
   "source": [
    "sign3 = list(data_dir.glob('2/*'))\n",
    "PIL.Image.open(str(sign3[0]))"
   ]
  },
  {
   "cell_type": "code",
   "execution_count": 10,
   "metadata": {},
   "outputs": [],
   "source": [
    "def load_data(data_dir):\n",
    "    \"\"\"\n",
    "    Load image data from directory `data_dir`.\n",
    "\n",
    "    Assume `data_dir` has one directory named after each category, numbered\n",
    "    0 through NUM_CATEGORIES - 1. Inside each category directory will be some\n",
    "    number of image files.\n",
    "\n",
    "    Return tuple `(images, labels)`. `images` should be a list of all\n",
    "    of the images in the data directory, where each image is formatted as a\n",
    "    numpy ndarray with dimensions IMG_WIDTH x IMG_HEIGHT x 3. `labels` should\n",
    "    be a list of integer labels, representing the categories for each of the\n",
    "    corresponding `images`.\n",
    "    \"\"\"\n",
    "    images = list()\n",
    "    labels = list()\n",
    "    for category in range(NUM_CATEGORIES):\n",
    "        categories = os.path.join(data_dir, str(category))\n",
    "        for img in os.listdir(categories):\n",
    "            image_file = os.path.join(categories, img)\n",
    "            image = cv2.imread(image_file)\n",
    "            image = cv2.resize(image, (IMG_HEIGHT,IMG_WIDTH))\n",
    "            images.append(image)\n",
    "            labels.append(category)\n",
    "\n",
    "    return images, labels"
   ]
  },
  {
   "cell_type": "code",
   "execution_count": 11,
   "metadata": {},
   "outputs": [],
   "source": [
    "# Get image arrays and labels for all image files\n",
    "images, labels = load_data(data_dir)\n",
    "\n",
    "# Split data into training and testing sets\n",
    "labels = tf.keras.utils.to_categorical(labels)\n",
    "\n",
    "x_train, x_test, y_train, y_test = train_test_split(\n",
    "    np.array(images), np.array(labels), test_size=TEST_SIZE\n",
    ")\n",
    "\n"
   ]
  },
  {
   "cell_type": "code",
   "execution_count": 12,
   "metadata": {},
   "outputs": [],
   "source": [
    "model = Sequential()"
   ]
  },
  {
   "cell_type": "code",
   "execution_count": 13,
   "metadata": {},
   "outputs": [],
   "source": [
    "model.add(layers.Conv2D(32, 3, activation='relu', input_shape=(IMG_HEIGHT,IMG_WIDTH, 3)))"
   ]
  },
  {
   "cell_type": "code",
   "execution_count": 14,
   "metadata": {},
   "outputs": [],
   "source": [
    "model.add(layers.MaxPooling2D((2,2)))"
   ]
  },
  {
   "cell_type": "code",
   "execution_count": 15,
   "metadata": {},
   "outputs": [],
   "source": [
    "model.add(layers.Conv2D(64, 3, activation='relu'))\n",
    "model.add(layers.MaxPooling2D((2,2)))"
   ]
  },
  {
   "cell_type": "code",
   "execution_count": 16,
   "metadata": {},
   "outputs": [],
   "source": [
    "model.add(layers.Conv2D(64, 3, activation='relu'))"
   ]
  },
  {
   "cell_type": "code",
   "execution_count": 17,
   "metadata": {},
   "outputs": [
    {
     "name": "stdout",
     "output_type": "stream",
     "text": [
      "Model: \"sequential\"\n",
      "_________________________________________________________________\n",
      "Layer (type)                 Output Shape              Param #   \n",
      "=================================================================\n",
      "conv2d (Conv2D)              (None, 28, 28, 32)        896       \n",
      "_________________________________________________________________\n",
      "max_pooling2d (MaxPooling2D) (None, 14, 14, 32)        0         \n",
      "_________________________________________________________________\n",
      "conv2d_1 (Conv2D)            (None, 12, 12, 64)        18496     \n",
      "_________________________________________________________________\n",
      "max_pooling2d_1 (MaxPooling2 (None, 6, 6, 64)          0         \n",
      "_________________________________________________________________\n",
      "conv2d_2 (Conv2D)            (None, 4, 4, 64)          36928     \n",
      "=================================================================\n",
      "Total params: 56,320\n",
      "Trainable params: 56,320\n",
      "Non-trainable params: 0\n",
      "_________________________________________________________________\n"
     ]
    }
   ],
   "source": [
    "model.summary()"
   ]
  },
  {
   "cell_type": "code",
   "execution_count": 18,
   "metadata": {},
   "outputs": [],
   "source": [
    "model.add(layers.Flatten())\n",
    "model.add(layers.Dense(64, activation='relu'))\n",
    "model.add(layers.Dense(NUM_CATEGORIES, activation='softmax'))"
   ]
  },
  {
   "cell_type": "code",
   "execution_count": 19,
   "metadata": {},
   "outputs": [
    {
     "name": "stdout",
     "output_type": "stream",
     "text": [
      "Model: \"sequential\"\n",
      "_________________________________________________________________\n",
      "Layer (type)                 Output Shape              Param #   \n",
      "=================================================================\n",
      "conv2d (Conv2D)              (None, 28, 28, 32)        896       \n",
      "_________________________________________________________________\n",
      "max_pooling2d (MaxPooling2D) (None, 14, 14, 32)        0         \n",
      "_________________________________________________________________\n",
      "conv2d_1 (Conv2D)            (None, 12, 12, 64)        18496     \n",
      "_________________________________________________________________\n",
      "max_pooling2d_1 (MaxPooling2 (None, 6, 6, 64)          0         \n",
      "_________________________________________________________________\n",
      "conv2d_2 (Conv2D)            (None, 4, 4, 64)          36928     \n",
      "_________________________________________________________________\n",
      "flatten (Flatten)            (None, 1024)              0         \n",
      "_________________________________________________________________\n",
      "dense (Dense)                (None, 64)                65600     \n",
      "_________________________________________________________________\n",
      "dense_1 (Dense)              (None, 43)                2795      \n",
      "=================================================================\n",
      "Total params: 124,715\n",
      "Trainable params: 124,715\n",
      "Non-trainable params: 0\n",
      "_________________________________________________________________\n"
     ]
    }
   ],
   "source": [
    "model.summary()"
   ]
  },
  {
   "cell_type": "code",
   "execution_count": 20,
   "metadata": {},
   "outputs": [],
   "source": [
    "model.compile(optimizer='adam',\n",
    "             loss='categorical_crossentropy',\n",
    "             metrics=['accuracy'])"
   ]
  },
  {
   "cell_type": "code",
   "execution_count": 21,
   "metadata": {},
   "outputs": [
    {
     "name": "stdout",
     "output_type": "stream",
     "text": [
      "Epoch 1/30\n",
      "60/60 [==============================] - 6s 105ms/step - loss: 4.6120 - accuracy: 0.1096 - val_loss: 3.3172 - val_accuracy: 0.1864\n",
      "Epoch 2/30\n",
      "60/60 [==============================] - 5s 88ms/step - loss: 2.9958 - accuracy: 0.2315 - val_loss: 2.6127 - val_accuracy: 0.2986\n",
      "Epoch 3/30\n",
      "60/60 [==============================] - 5s 90ms/step - loss: 2.1209 - accuracy: 0.4197 - val_loss: 1.6544 - val_accuracy: 0.5503\n",
      "Epoch 4/30\n",
      "60/60 [==============================] - 5s 87ms/step - loss: 1.3187 - accuracy: 0.6346 - val_loss: 1.0562 - val_accuracy: 0.7162\n",
      "Epoch 5/30\n",
      "60/60 [==============================] - 5s 88ms/step - loss: 0.7985 - accuracy: 0.7879 - val_loss: 0.6534 - val_accuracy: 0.8291\n",
      "Epoch 6/30\n",
      "60/60 [==============================] - 5s 88ms/step - loss: 0.4790 - accuracy: 0.8736 - val_loss: 0.5214 - val_accuracy: 0.8483\n",
      "Epoch 7/30\n",
      "60/60 [==============================] - 5s 87ms/step - loss: 0.3309 - accuracy: 0.9098 - val_loss: 0.3187 - val_accuracy: 0.9191\n",
      "Epoch 8/30\n",
      "60/60 [==============================] - 5s 87ms/step - loss: 0.2295 - accuracy: 0.9386 - val_loss: 0.2620 - val_accuracy: 0.9339\n",
      "Epoch 9/30\n",
      "60/60 [==============================] - 5s 87ms/step - loss: 0.1837 - accuracy: 0.9482 - val_loss: 0.2235 - val_accuracy: 0.9453\n",
      "Epoch 10/30\n",
      "60/60 [==============================] - 5s 88ms/step - loss: 0.1421 - accuracy: 0.9616 - val_loss: 0.1970 - val_accuracy: 0.9526\n",
      "Epoch 11/30\n",
      "60/60 [==============================] - 5s 88ms/step - loss: 0.0932 - accuracy: 0.9750 - val_loss: 0.2166 - val_accuracy: 0.9501\n",
      "Epoch 12/30\n",
      "60/60 [==============================] - 5s 87ms/step - loss: 0.0730 - accuracy: 0.9815 - val_loss: 0.1885 - val_accuracy: 0.9574\n",
      "Epoch 13/30\n",
      "60/60 [==============================] - 5s 87ms/step - loss: 0.0873 - accuracy: 0.9763 - val_loss: 0.1798 - val_accuracy: 0.9562\n",
      "Epoch 14/30\n",
      "60/60 [==============================] - 5s 88ms/step - loss: 0.0582 - accuracy: 0.9864 - val_loss: 0.1638 - val_accuracy: 0.9644\n",
      "Epoch 15/30\n",
      "60/60 [==============================] - 5s 88ms/step - loss: 0.0357 - accuracy: 0.9914 - val_loss: 0.1304 - val_accuracy: 0.9736\n",
      "Epoch 16/30\n",
      "60/60 [==============================] - 5s 88ms/step - loss: 0.0279 - accuracy: 0.9936 - val_loss: 0.1307 - val_accuracy: 0.9738\n",
      "Epoch 17/30\n",
      "60/60 [==============================] - 5s 88ms/step - loss: 0.0346 - accuracy: 0.9922 - val_loss: 0.1597 - val_accuracy: 0.9675\n",
      "Epoch 18/30\n",
      "60/60 [==============================] - 5s 88ms/step - loss: 0.0353 - accuracy: 0.9917 - val_loss: 0.2213 - val_accuracy: 0.9547\n",
      "Epoch 19/30\n",
      "60/60 [==============================] - 5s 88ms/step - loss: 0.0543 - accuracy: 0.9864 - val_loss: 0.1597 - val_accuracy: 0.9686\n",
      "Epoch 20/30\n",
      "60/60 [==============================] - 5s 87ms/step - loss: 0.0267 - accuracy: 0.9942 - val_loss: 0.1331 - val_accuracy: 0.9740\n",
      "Epoch 21/30\n",
      "60/60 [==============================] - 5s 88ms/step - loss: 0.0121 - accuracy: 0.9981 - val_loss: 0.1261 - val_accuracy: 0.9769\n",
      "Epoch 22/30\n",
      "60/60 [==============================] - 5s 89ms/step - loss: 0.0085 - accuracy: 0.9992 - val_loss: 0.1312 - val_accuracy: 0.9778\n",
      "Epoch 23/30\n",
      "60/60 [==============================] - 5s 88ms/step - loss: 0.0062 - accuracy: 0.9996 - val_loss: 0.1275 - val_accuracy: 0.9780\n",
      "Epoch 24/30\n",
      "60/60 [==============================] - 5s 88ms/step - loss: 0.0052 - accuracy: 0.9999 - val_loss: 0.1301 - val_accuracy: 0.9780\n",
      "Epoch 25/30\n",
      "60/60 [==============================] - 5s 88ms/step - loss: 0.0104 - accuracy: 0.9977 - val_loss: 0.1490 - val_accuracy: 0.9743\n",
      "Epoch 26/30\n",
      "60/60 [==============================] - 5s 88ms/step - loss: 0.0316 - accuracy: 0.9914 - val_loss: 0.1563 - val_accuracy: 0.9718\n",
      "Epoch 27/30\n",
      "60/60 [==============================] - 5s 88ms/step - loss: 0.0239 - accuracy: 0.9938 - val_loss: 0.1485 - val_accuracy: 0.9723\n",
      "Epoch 28/30\n",
      "60/60 [==============================] - 5s 88ms/step - loss: 0.0219 - accuracy: 0.9947 - val_loss: 0.1426 - val_accuracy: 0.9744\n",
      "Epoch 29/30\n",
      "60/60 [==============================] - 5s 88ms/step - loss: 0.0124 - accuracy: 0.9974 - val_loss: 0.1172 - val_accuracy: 0.9791\n",
      "Epoch 30/30\n",
      "60/60 [==============================] - 5s 90ms/step - loss: 0.0045 - accuracy: 0.9997 - val_loss: 0.1176 - val_accuracy: 0.9810\n"
     ]
    }
   ],
   "source": [
    "# Fit model on training data\n",
    "history = model.fit(x_train, y_train, validation_data = (x_test, y_test), epochs=EPOCHS, steps_per_epoch=60)"
   ]
  },
  {
   "cell_type": "code",
   "execution_count": 22,
   "metadata": {},
   "outputs": [
    {
     "name": "stdout",
     "output_type": "stream",
     "text": [
      "333/333 - 2s - loss: 0.1176 - accuracy: 0.9810\n"
     ]
    },
    {
     "data": {
      "text/plain": [
       "[0.11759761720895767, 0.9810435175895691]"
      ]
     },
     "execution_count": 22,
     "metadata": {},
     "output_type": "execute_result"
    }
   ],
   "source": [
    "# Evaluate neural network performance\n",
    "model.evaluate(x_test,  y_test, verbose=2)"
   ]
  },
  {
   "cell_type": "code",
   "execution_count": 23,
   "metadata": {},
   "outputs": [
    {
     "data": {
      "image/png": "[encoded data removed]",
      "text/plain": [
       "<Figure size 576x576 with 2 Axes>"
      ]
     },
     "metadata": {
      "needs_background": "light"
     },
     "output_type": "display_data"
    }
   ],
   "source": [
    "acc = history.history['accuracy']\n",
    "val_acc = history.history['val_accuracy']\n",
    "\n",
    "loss=history.history['loss']\n",
    "val_loss=history.history['val_loss']\n",
    "\n",
    "epochs_range = range(EPOCHS)\n",
    "\n",
    "plt.figure(figsize=(8, 8))\n",
    "plt.subplot(1, 2, 1)\n",
    "plt.plot(epochs_range, acc, label='Training Accuracy')\n",
    "plt.plot(epochs_range, val_acc, label='Validation Accuracy')\n",
    "plt.legend(loc='lower right')\n",
    "plt.title('Training and Validation Accuracy')\n",
    "\n",
    "plt.subplot(1, 2, 2)\n",
    "plt.plot(epochs_range, loss, label='Training Loss')\n",
    "plt.plot(epochs_range, val_loss, label='Validation Loss')\n",
    "plt.legend(loc='upper right')\n",
    "plt.title('Training and Validation Loss')\n",
    "plt.show()"
   ]
  },
  {
   "cell_type": "code",
   "execution_count": null,
   "metadata": {},
   "outputs": [],
   "source": []
  }
 ],
 "metadata": {
  "kernelspec": {
   "display_name": "Python 3",
   "language": "python",
   "name": "python3"
  },
  "language_info": {
   "codemirror_mode": {
    "name": "ipython",
    "version": 3
   },
   "file_extension": ".py",
   "mimetype": "text/x-python",
   "name": "python",
   "nbconvert_exporter": "python",
   "pygments_lexer": "ipython3",
   "version": "3.7.7"
  }
 },
 "nbformat": 4,
 "nbformat_minor": 4
}
